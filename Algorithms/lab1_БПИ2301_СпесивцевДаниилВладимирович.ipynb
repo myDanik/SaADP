{
 "cells": [
  {
   "cell_type": "markdown",
   "id": "46d3e58f-599b-45f0-9f91-36e009cec8e5",
   "metadata": {},
   "source": [
    "# Лабораторная работа №1 #\n",
    "## Выполнил студент группы БПИ2301 Спесивцев Даниил Владимирович\n",
    "### Задание 1\n",
    "\n",
    "1. Создать Jupyter Notebook со следующим наименованием: Lab1_Группа_ФИО\n",
    "2. Создать новую ячейку с помощью кнопки\n",
    "3. В созданной ячейке по указанной ниже форме заполните оглавление файла,\n",
    "заменив наименование группы и вписав свое ФИО.\n",
    "4. С помощью кнопки Run запустите выполнение всех ячеек.\n",
    "5. После выполнения у вас должна отформатироваться ячейка с оглавлением и\n",
    "должен выполниться “Hello, World!”."
   ]
  },
  {
   "cell_type": "code",
   "execution_count": 1,
   "id": "a14c8faa-049d-415a-ab39-e61fc7d3d07a",
   "metadata": {},
   "outputs": [
    {
     "name": "stdout",
     "output_type": "stream",
     "text": [
      "hello world\n"
     ]
    }
   ],
   "source": [
    "print(\"hello world\")"
   ]
  },
  {
   "cell_type": "markdown",
   "id": "aeb9ee25-f8c7-4016-8960-18883da879ed",
   "metadata": {},
   "source": [
    "### Задание 2\n",
    "Написать генератор случайных матриц(многомерных), который принимает\n",
    "опциональные параметры m, n, min_limit, max_limit, где m и n указывают размер\n",
    "матрицы, а min_lim и max_lim - минимальное и максимальное значение для\n",
    "генерируемого числа . По умолчанию при отсутствии параметров принимать следующие\n",
    "значения:\n",
    "m = 50\n",
    "n = 50\n",
    "min_limit = -250\n",
    "max_limit = 1000 + (номер своего варианта)"
   ]
  },
  {
   "cell_type": "code",
   "execution_count": 2,
   "id": "8a8f5f74-d3ea-4323-b2ff-80cbb90a9d87",
   "metadata": {},
   "outputs": [],
   "source": [
    "import random\n",
    "def generateMatrix(m=50, n=50, min_limit=-250, max_limit=1024):\n",
    "    return [[random.randint(min_limit, max_limit) for _ in range(n)] for _ in range(m)]\n"
   ]
  },
  {
   "cell_type": "markdown",
   "id": "95a75204-1bb4-493f-81ec-b055bef23463",
   "metadata": {},
   "source": [
    "### Задание 3\n",
    "Реализовать методы сортировки строк числовой матрицы в соответствии с\n",
    "заданием. Оценить время работы каждого алгоритма сортировки и сравнить его со\n",
    "временем стандартной функции сортировки. Испытания проводить на сгенерированных\n",
    "матрицах.\n",
    "Методы:<br>\n",
    "Выбором<br> Вставкой<br> Обменом<br> Шелла<br> Турнирная<br> Быстрая сортировка<br> Пирамидальная"
   ]
  },
  {
   "cell_type": "code",
   "execution_count": 3,
   "id": "cc40dee5-4c57-4fee-aaa5-9a30bc951f59",
   "metadata": {
    "scrolled": true
   },
   "outputs": [
    {
     "name": "stdout",
     "output_type": "stream",
     "text": [
      "[[63, 874, -143, -178, 527, 239, 171, 530, 802, 478], [60, 993, -40, -35, 690, -207, 628, 670, -86, 652], [449, 265, 445, 337, 208, 458, 935, 875, 765, 379], [628, 897, 626, 16, -220, 1012, 752, -131, 610, 333], [480, 237, 560, -32, 412, 976, -170, -148, 425, 419], [372, 210, 86, -27, 934, 69, 640, 583, -9, 409], [18, 164, 544, 313, 714, 488, -70, -225, -117, 810], [216, 317, 236, -15, -129, 198, 257, -5, 453, 938], [737, 308, 937, 389, 271, -13, -55, 414, 215, 228], [602, 217, -170, 68, 660, -15, 559, 607, 409, 962]]\n"
     ]
    }
   ],
   "source": [
    "import time\n",
    "import copy\n",
    "matrix = generateMatrix(10,10)\n",
    "print(matrix)"
   ]
  },
  {
   "cell_type": "code",
   "execution_count": 4,
   "id": "16c354d2-cf74-4bf1-be4b-3f752c6b1aca",
   "metadata": {
    "scrolled": true
   },
   "outputs": [
    {
     "name": "stdout",
     "output_type": "stream",
     "text": [
      "Время выполнения сортировки выбором: 0.0\n",
      " [[-178, -143, 63, 171, 239, 478, 527, 530, 802, 874], [-207, -86, -40, -35, 60, 628, 652, 670, 690, 993], [208, 265, 337, 379, 445, 449, 458, 765, 875, 935], [-220, -131, 16, 333, 610, 626, 628, 752, 897, 1012], [-170, -148, -32, 237, 412, 419, 425, 480, 560, 976], [-27, -9, 69, 86, 210, 372, 409, 583, 640, 934], [-225, -117, -70, 18, 164, 313, 488, 544, 714, 810], [-129, -15, -5, 198, 216, 236, 257, 317, 453, 938], [-55, -13, 215, 228, 271, 308, 389, 414, 737, 937], [-170, -15, 68, 217, 409, 559, 602, 607, 660, 962]]\n"
     ]
    }
   ],
   "source": [
    "def selectionSort(matrix):\n",
    "    for row in matrix:\n",
    "        for i in range(len(row)-1):\n",
    "            min = i\n",
    "            for j in range(i, len(row)):\n",
    "                if row[j]<row[min]:\n",
    "                    min = j\n",
    "            if min != i:\n",
    "                temp = row[min]\n",
    "                row[min] = row[i]\n",
    "                row[i] = temp\n",
    "    return matrix\n",
    "start_time = time.time()\n",
    "result = selectionSort(copy.deepcopy(matrix))\n",
    "print( f\"Время выполнения сортировки выбором: {time.time()-start_time}\\n\", result)"
   ]
  },
  {
   "cell_type": "code",
   "execution_count": 5,
   "id": "a0007c76-cd5e-4420-8903-e49f85b6729b",
   "metadata": {
    "scrolled": true
   },
   "outputs": [
    {
     "name": "stdout",
     "output_type": "stream",
     "text": [
      "Время выполнения сортировки вставкой: 0.0010006427764892578\n",
      " [[-178, -143, 63, 171, 239, 478, 527, 530, 802, 874], [-207, -86, -40, -35, 60, 628, 652, 670, 690, 993], [208, 265, 337, 379, 445, 449, 458, 765, 875, 935], [-220, -131, 16, 333, 610, 626, 628, 752, 897, 1012], [-170, -148, -32, 237, 412, 419, 425, 480, 560, 976], [-27, -9, 69, 86, 210, 372, 409, 583, 640, 934], [-225, -117, -70, 18, 164, 313, 488, 544, 714, 810], [-129, -15, -5, 198, 216, 236, 257, 317, 453, 938], [-55, -13, 215, 228, 271, 308, 389, 414, 737, 937], [-170, -15, 68, 217, 409, 559, 602, 607, 660, 962]]\n"
     ]
    }
   ],
   "source": [
    "def insertionSort(matrix):\n",
    "     for row in matrix:\n",
    "         for i in range(1, len(row)):\n",
    "            j = i\n",
    "            while j>0 and row[j]<row[j-1]:\n",
    "                temp = row[j]\n",
    "                row[j] = row[j-1]\n",
    "                row[j-1] = temp\n",
    "                j = j-1\n",
    "     return matrix\n",
    "start_time = time.time()\n",
    "result = insertionSort(copy.deepcopy(matrix))\n",
    "print(f\"Время выполнения сортировки вставкой: {time.time()-start_time}\\n\", result)"
   ]
  },
  {
   "cell_type": "code",
   "execution_count": 6,
   "id": "6665e1cb-2794-464c-a79a-35e2e8eabbf7",
   "metadata": {
    "scrolled": true
   },
   "outputs": [
    {
     "name": "stdout",
     "output_type": "stream",
     "text": [
      "Время выполнения сортировки пузырьком: 0.0\n",
      " [[-178, -143, 63, 171, 239, 478, 527, 530, 802, 874], [-207, -86, -40, -35, 60, 628, 652, 670, 690, 993], [208, 265, 337, 379, 445, 449, 458, 765, 875, 935], [-220, -131, 16, 333, 610, 626, 628, 752, 897, 1012], [-170, -148, -32, 237, 412, 419, 425, 480, 560, 976], [-27, -9, 69, 86, 210, 372, 409, 583, 640, 934], [-225, -117, -70, 18, 164, 313, 488, 544, 714, 810], [-129, -15, -5, 198, 216, 236, 257, 317, 453, 938], [-55, -13, 215, 228, 271, 308, 389, 414, 737, 937], [-170, -15, 68, 217, 409, 559, 602, 607, 660, 962]]\n"
     ]
    }
   ],
   "source": [
    "def bubbleSort(matrix):\n",
    "    for row in matrix:\n",
    "        bubble = len(row)-1\n",
    "        for j in range(0, bubble):\n",
    "            for i in range(len(row)-1):\n",
    "                if row[i+1]<row[i]:\n",
    "                    temp = row[i+1]\n",
    "                    row[i+1] = row[i]\n",
    "                    row[i] = temp\n",
    "            bubble-=1\n",
    "    return matrix\n",
    "start_time = time.time()\n",
    "result = bubbleSort(copy.deepcopy(matrix))\n",
    "print(f\"Время выполнения сортировки пузырьком: {time.time()-start_time}\\n\", result)"
   ]
  },
  {
   "cell_type": "code",
   "execution_count": 7,
   "id": "a0b2036f-aa7d-4c82-8e11-f1b8f6efb426",
   "metadata": {
    "scrolled": true
   },
   "outputs": [
    {
     "name": "stdout",
     "output_type": "stream",
     "text": [
      "Время выполнения сортировки Шелла: 0.0\n",
      " [[-178, -143, 63, 171, 239, 478, 527, 530, 802, 874], [-207, -86, -40, -35, 60, 628, 652, 670, 690, 993], [208, 265, 337, 379, 445, 449, 458, 765, 875, 935], [-220, -131, 16, 333, 610, 626, 628, 752, 897, 1012], [-170, -148, -32, 237, 412, 419, 425, 480, 560, 976], [-27, -9, 69, 86, 210, 372, 409, 583, 640, 934], [-225, -117, -70, 18, 164, 313, 488, 544, 714, 810], [-129, -15, -5, 198, 216, 236, 257, 317, 453, 938], [-55, -13, 215, 228, 271, 308, 389, 414, 737, 937], [-170, -15, 68, 217, 409, 559, 602, 607, 660, 962]]\n"
     ]
    }
   ],
   "source": [
    "def shellSort(matrix):\n",
    "    for row in matrix:\n",
    "        step = len(row)//2\n",
    "        while step > 0:\n",
    "            for i in range(len(row)-step):\n",
    "                j = i+step\n",
    "                while j>0 and row[j]<row[j-step]:\n",
    "                    temp = row[j]\n",
    "                    row[j] = row[j-step]\n",
    "                    row[j-step] = temp\n",
    "                    j = j-1\n",
    "            step//=2\n",
    "    return matrix\n",
    "start_time = time.time()\n",
    "result = shellSort(copy.deepcopy(matrix))\n",
    "print(f\"Время выполнения сортировки Шелла: {time.time()-start_time}\\n\", result)\n"
   ]
  },
  {
   "cell_type": "code",
   "execution_count": 8,
   "id": "29ee971c-9c0a-4383-8eb7-929a91a8ef02",
   "metadata": {
    "scrolled": true
   },
   "outputs": [
    {
     "name": "stdout",
     "output_type": "stream",
     "text": [
      "Время выполнения турнирной сортировки: 0.0\n",
      " [[-143, -178, 63, 171, 239, 478, 527, 530, 802, 874], [-40, -207, -86, -35, 60, 628, 652, 670, 690, 993], [265, 208, 337, 379, 445, 449, 458, 765, 875, 935], [-131, -220, 16, 333, 610, 626, 628, 752, 897, 1012], [-170, -148, -32, 237, 412, 419, 425, 480, 560, 976], [86, -27, -9, 69, 210, 372, 409, 583, 640, 934], [-225, -117, -70, 18, 164, 313, 488, 544, 714, 810], [-129, -15, -5, 198, 216, 236, 257, 317, 453, 938], [308, -55, -13, 215, 228, 271, 389, 414, 737, 937], [-170, -15, 68, 217, 409, 559, 602, 607, 660, 962]]\n"
     ]
    }
   ],
   "source": [
    "def minHeap(arr, n, i):\n",
    "    smallest = i\n",
    "    while True:\n",
    "        l = 2 * i + 1\n",
    "        r = 2 * i + 2\n",
    "        if l < n and arr[l] < arr[smallest]:\n",
    "            smallest = l\n",
    "        if r < n and arr[r] < arr[smallest]:\n",
    "            smallest = r\n",
    "        if smallest == i:\n",
    "            break\n",
    "        arr[i], arr[smallest] = arr[smallest], arr[i]\n",
    "        i = smallest\n",
    "\n",
    "def tournamentSort(matrix):\n",
    "    for row_idx in range(len(matrix)):\n",
    "        current_row = matrix[row_idx]\n",
    "        k = 7\n",
    "\n",
    "        while True:\n",
    "            heap = []\n",
    "            losers = []\n",
    "            winners = []\n",
    "            idx = 0\n",
    "            \n",
    "            while idx < len(current_row) and len(heap) < k:\n",
    "                heap.append(current_row[idx])\n",
    "                idx += 1\n",
    "\n",
    "            for i in range(len(heap)):\n",
    "                minHeap(heap, len(heap), i)\n",
    "\n",
    "            while idx < len(current_row):\n",
    "                elem = current_row[idx]\n",
    "                if elem > heap[0]:\n",
    "                    winners.append(heap[0])\n",
    "                    heap[0] = elem\n",
    "                    minHeap(heap, len(heap), 0)\n",
    "                else:\n",
    "                    losers.append(elem)\n",
    "                idx += 1\n",
    "\n",
    "            heap_size = len(heap)\n",
    "            while heap_size > 0:\n",
    "                winners.append(heap[0])\n",
    "                heap[0] = heap[heap_size - 1]\n",
    "                heap_size -= 1\n",
    "                if heap_size > 0:\n",
    "                    minHeap(heap, heap_size, 0)\n",
    "\n",
    "            if not losers:\n",
    "                current_row = winners\n",
    "                break\n",
    "            else:\n",
    "                current_row = losers + winners\n",
    "                losers = []\n",
    "                winners = []\n",
    "\n",
    "        matrix[row_idx] = current_row\n",
    "    return matrix\n",
    "n = [[11,14,5,10,13,15,12,7,4,3,6,1,8,9,2]]\n",
    "heap = [11,14,5,10,13,15,12]\n",
    "start_time = time.time()\n",
    "result = tournamentSort(copy.deepcopy(matrix))\n",
    "print(f\"Время выполнения турнирной сортировки: {time.time()-start_time}\\n\", result)"
   ]
  },
  {
   "cell_type": "code",
   "execution_count": 9,
   "id": "daf6716b-27e7-4067-882f-3df57e26027a",
   "metadata": {
    "scrolled": true
   },
   "outputs": [
    {
     "name": "stdout",
     "output_type": "stream",
     "text": [
      "Время выполнения быстрой сортировки: 0.0\n",
      " [[-178, -143, 63, 171, 239, 478, 527, 530, 802, 874], [-207, -86, -40, -35, 60, 628, 652, 670, 690, 993], [208, 265, 337, 379, 445, 449, 458, 765, 875, 935], [-220, -131, 16, 333, 610, 626, 628, 752, 897, 1012], [-170, -148, -32, 237, 412, 419, 425, 480, 560, 976], [-27, -9, 69, 86, 210, 372, 409, 583, 640, 934], [-225, -117, -70, 18, 164, 313, 488, 544, 714, 810], [-129, -15, -5, 198, 216, 236, 257, 317, 453, 938], [-55, -13, 215, 228, 271, 308, 389, 414, 737, 937], [-170, -15, 68, 217, 409, 559, 602, 607, 660, 962]]\n"
     ]
    }
   ],
   "source": [
    "def quickSortMatrix(matrix):\n",
    "    resultMatrix = []\n",
    "    for row in matrix:\n",
    "        resultMatrix.append(quickSort(row))\n",
    "    return resultMatrix\n",
    "def quickSort(row):\n",
    "    if len(row)<2:\n",
    "        return row\n",
    "    resultArr = []\n",
    "    lessArr = []\n",
    "    moreArr = []\n",
    "    middleCell = row[len(row)//2]\n",
    "    for i in range(len(row)):\n",
    "        if row[i]<middleCell:\n",
    "            lessArr.append(row[i])\n",
    "        elif row[i]>middleCell:\n",
    "            moreArr.append(row[i])\n",
    "    return quickSort(lessArr) + [middleCell] + quickSort(moreArr)\n",
    "start_time = time.time()\n",
    "result = quickSortMatrix(copy.deepcopy(matrix))\n",
    "print(f\"Время выполнения быстрой сортировки: {time.time()-start_time}\\n\", result)"
   ]
  },
  {
   "cell_type": "code",
   "execution_count": 10,
   "id": "53e3fd10-e581-4eec-8a8d-321265ebbacc",
   "metadata": {
    "scrolled": true
   },
   "outputs": [
    {
     "name": "stdout",
     "output_type": "stream",
     "text": [
      "Время выполнения пирамидалной сортировки: 0.0009942054748535156\n",
      " [[-178, -143, 63, 171, 239, 478, 527, 530, 802, 874], [-207, -86, -40, -35, 60, 628, 652, 670, 690, 993], [208, 265, 337, 379, 445, 449, 458, 765, 875, 935], [-220, -131, 16, 333, 610, 626, 628, 752, 897, 1012], [-170, -148, -32, 237, 412, 419, 425, 480, 560, 976], [-27, -9, 69, 86, 210, 372, 409, 583, 640, 934], [-225, -117, -70, 18, 164, 313, 488, 544, 714, 810], [-129, -15, -5, 198, 216, 236, 257, 317, 453, 938], [-55, -13, 215, 228, 271, 308, 389, 414, 737, 937], [-170, -15, 68, 217, 409, 559, 602, 607, 660, 962]]\n"
     ]
    }
   ],
   "source": [
    "def maxHeap(arr, n, i):\n",
    "    largest = i\n",
    "    l = 2 * i + 1\n",
    "    r = 2 * i + 2\n",
    "    if l < n and arr[largest] < arr[l]:\n",
    "        largest = l\n",
    "    if r < n and arr[largest] < arr[r]:\n",
    "        largest = r\n",
    "    if largest != i:\n",
    "        \n",
    "        temp = arr[i]\n",
    "        arr[i] = arr[largest]\n",
    "        arr[largest] = temp\n",
    "        maxHeap(arr, n, largest)\n",
    "def heapSort(matrix):\n",
    "    for row in matrix:\n",
    "        n = len(row)\n",
    "        \n",
    "        for i in range(n-1, -1, -1):\n",
    "            maxHeap(row, n, i)\n",
    "        for i in range(n-1, 0, -1):\n",
    "            temp = row[i]\n",
    "            row[i] = row[0]\n",
    "            row[0] = temp\n",
    "            maxHeap(row, i, 0)\n",
    "    return matrix\n",
    "\n",
    "start_time = time.time()\n",
    "result = heapSort(copy.deepcopy(matrix))\n",
    "print(f\"Время выполнения пирамидалной сортировки: {time.time()-start_time}\\n\", result)"
   ]
  },
  {
   "cell_type": "code",
   "execution_count": 11,
   "id": "d842f5b3-8ff9-46f1-bace-a1a27032b236",
   "metadata": {
    "scrolled": true
   },
   "outputs": [
    {
     "name": "stdout",
     "output_type": "stream",
     "text": [
      "Время выполнения стандартной сортировки Python: 0.0\n",
      " [[-178, -143, 63, 171, 239, 478, 527, 530, 802, 874], [-207, -86, -40, -35, 60, 628, 652, 670, 690, 993], [208, 265, 337, 379, 445, 449, 458, 765, 875, 935], [-220, -131, 16, 333, 610, 626, 628, 752, 897, 1012], [-170, -148, -32, 237, 412, 419, 425, 480, 560, 976], [-27, -9, 69, 86, 210, 372, 409, 583, 640, 934], [-225, -117, -70, 18, 164, 313, 488, 544, 714, 810], [-129, -15, -5, 198, 216, 236, 257, 317, 453, 938], [-55, -13, 215, 228, 271, 308, 389, 414, 737, 937], [-170, -15, 68, 217, 409, 559, 602, 607, 660, 962]]\n"
     ]
    }
   ],
   "source": [
    "def standartSort(matrix):\n",
    "    for row in matrix:\n",
    "        row.sort()\n",
    "    return matrix\n",
    "start_time = time.time()\n",
    "result = standartSort(copy.deepcopy(matrix))\n",
    "print(f\"Время выполнения стандартной сортировки Python: {time.time()-start_time}\\n\", result)"
   ]
  },
  {
   "cell_type": "markdown",
   "id": "a86f8bd7-72b8-4dbe-b883-977937f88b34",
   "metadata": {},
   "source": [
    "### Задание 4\n",
    "Создать публичный репозиторий на github, и запушить выполненное задание в\n",
    ".ipynb формате.\n"
   ]
  },
  {
   "cell_type": "code",
   "execution_count": null,
   "id": "3bb2a303-e13a-49e0-bb1e-e0038cea17ac",
   "metadata": {},
   "outputs": [],
   "source": []
  }
 ],
 "metadata": {
  "kernelspec": {
   "display_name": "Python 3 (ipykernel)",
   "language": "python",
   "name": "python3"
  },
  "language_info": {
   "codemirror_mode": {
    "name": "ipython",
    "version": 3
   },
   "file_extension": ".py",
   "mimetype": "text/x-python",
   "name": "python",
   "nbconvert_exporter": "python",
   "pygments_lexer": "ipython3",
   "version": "3.11.5"
  }
 },
 "nbformat": 4,
 "nbformat_minor": 5
}
