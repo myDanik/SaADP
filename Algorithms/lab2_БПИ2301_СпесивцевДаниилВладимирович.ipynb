{
 "cells": [
  {
   "cell_type": "markdown",
   "id": "fifteen-sailing",
   "metadata": {
    "id": "fifteen-sailing"
   },
   "source": [
    "# Лабораторная работа №2\n",
    "## Выполнил студент группы БПИ2301 Спесивцев Даниил Владимирович"
   ]
  },
  {
   "cell_type": "markdown",
   "id": "arctic-stocks",
   "metadata": {
    "id": "arctic-stocks"
   },
   "source": [
    "Реализовать следующие структуры данных:\n",
    "  \n",
    "● <b> Стек (stack): </b>  \n",
    "Операции для стека:\n",
    "<i> инициализация, проверка на пустоту, добавление нового элемента в начало, извлечение элемента из начала;  </i>  \n",
    "  \n",
    "● <b> Дек (двусторонняя очередь, deque):  </b>  \n",
    "Операции для дека:\n",
    "<i> инициализация, проверка на пустоту, добавление нового элемента в начало, добавление нового элемента в конец, извлечение элемента из начала, извлечение элемента из конца. </i>  \n",
    "  \n",
    "<i> Разработать программу обработки данных, содержащихся в заранее подготовленном txt-файле, в соответствии с заданиями, применив указанную в задании структуру данных. Результат работы программы вывести на экран и сохранить в отдельном txt-файле. </i>"
   ]
  },
  {
   "cell_type": "code",
   "execution_count": 1,
   "id": "76280dcb-a315-40de-9a1d-52803b6cf10c",
   "metadata": {},
   "outputs": [],
   "source": [
    "class Deque:\n",
    "    def __init__(self, items=None):\n",
    "        self.items = items if items else []\n",
    "\n",
    "    def isEmpty(self):\n",
    "        return self.items == []\n",
    "\n",
    "    def addRear(self, item):\n",
    "        self.items.append(item)\n",
    "\n",
    "    def addFront(self, item):\n",
    "        self.items.insert(0,item)\n",
    "\n",
    "    def removeRear(self):\n",
    "        return self.items.pop()\n",
    "\n",
    "    def removeFront(self):\n",
    "        return self.items.pop(0)\n",
    "\n",
    "    def size(self):\n",
    "        return len(self.items)\n",
    "        "
   ]
  },
  {
   "cell_type": "code",
   "execution_count": 2,
   "id": "b073df7e-7ffb-4091-9dcb-35508dc5f4b8",
   "metadata": {},
   "outputs": [],
   "source": [
    "class Stack:\n",
    "    def __init__(self, items = None):\n",
    "        self.items = items if items else []\n",
    "\n",
    "    def push(self, item):\n",
    "        self.items.append(item)\n",
    "\n",
    "    def pop(self):\n",
    "        return self.items.pop()\n",
    "\n",
    "    def is_empty(self):\n",
    "        return (self.items == [])\n"
   ]
  },
  {
   "cell_type": "markdown",
   "id": "5d7edb08",
   "metadata": {
    "id": "5d7edb08",
    "scrolled": true
   },
   "source": [
    "### Задание №1\n",
    "Отсортировать строки файла, содержащие названия книг, в алфавитном порядке с использованием двух деков."
   ]
  },
  {
   "cell_type": "code",
   "execution_count": null,
   "id": "0e81e0de-4899-4fc5-92a9-c532d7fe4352",
   "metadata": {},
   "outputs": [],
   "source": []
  },
  {
   "cell_type": "code",
   "execution_count": 3,
   "id": "17702ade",
   "metadata": {
    "id": "17702ade"
   },
   "outputs": [
    {
     "name": "stdout",
     "output_type": "stream",
     "text": [
      "1984\n",
      "Alice's Adventures in Wonderland\n",
      "All Quiet on the Western Front\n",
      "An American Tragedy\n",
      "And Then There Were None\n",
      "Anna Karenina\n",
      "Brave New World\n",
      "Crime and Punishment\n",
      "Doctor Zhivago\n",
      "Eugene Onegin\n",
      "Faust\n",
      "Hard to Be a God\n",
      "Harry Potter and the Philosopher's Stone\n",
      "Heart of a Dog\n",
      "Hyperion\n",
      "Ivanhoe\n",
      "Les Misérables\n",
      "Life of Pi\n",
      "Lolita\n",
      "Oblomov\n",
      "One Hundred Years of Solitude\n",
      "Perfume: The Story of a Murderer\n",
      "Pride and Prejudice\n",
      "Robinson Crusoe\n",
      "The Brothers Karamazov\n",
      "The Call of Cthulhu\n",
      "The Captain's Daughter\n",
      "The Count of Monte Cristo\n",
      "The Good Soldier Švejk\n",
      "The Grapes of Wrath\n",
      "The Green Mile\n",
      "The Handmaid's Tale\n",
      "The Invisible Man\n",
      "The Jungle Book\n",
      "The Lady of the Camellias\n",
      "The Little Prince\n",
      "The Master and Margarita\n",
      "The Mysterious Island\n",
      "The Old Man and the Sea\n",
      "The Picture of Dorian Gray\n",
      "The Plague\n",
      "The White Guard\n",
      "Three Comrades\n",
      "Three Men in a Boat\n",
      "Ulysses\n",
      "War and Peace\n"
     ]
    }
   ],
   "source": [
    "def sort_books(input_filename, output_filename):\n",
    "    with open(input_filename, 'r') as f:\n",
    "        lines = [line.rstrip('\\n') for line in f]\n",
    "    d1 = Deque(lines)\n",
    "    d2 = Deque()\n",
    "    while not d1.isEmpty():\n",
    "        current = d1.removeRear()\n",
    "        while not d2.isEmpty() and d2.items[-1]>current:\n",
    "            d1.addFront(d2.removeRear())\n",
    "        d2.addRear(current)\n",
    "    with open(output_filename, 'w') as f:\n",
    "        for line in d2.items:\n",
    "            f.write(line + '\\n')\n",
    "            print(line)\n",
    "sort_books(\"lab2_files/1/input_file\", \"lab2_files/1/output_file\")"
   ]
  },
  {
   "cell_type": "markdown",
   "id": "49fbd2a0",
   "metadata": {
    "id": "49fbd2a0"
   },
   "source": [
    "### Задание №2\n",
    "Дек содержит последовательность символов для шифровки сообщений. Дан текстовый файл, содержащий зашифрованное сообщение. Пользуясь деком, расшифровать текст.\n",
    "Известно, что при шифровке каждый символ сообщения заменялся следующим за ним в деке по часовой стрелке через один."
   ]
  },
  {
   "cell_type": "code",
   "execution_count": 4,
   "id": "81cab7a8",
   "metadata": {
    "id": "81cab7a8"
   },
   "outputs": [
    {
     "name": "stdout",
     "output_type": "stream",
     "text": [
      "hello world, its work\n"
     ]
    }
   ],
   "source": [
    "def decrypt_message(input_filename, output_filename, cipher_deque: Deque):\n",
    "    with open(input_filename, 'r') as f:\n",
    "        encrypted_text = f.read().strip()\n",
    "    decrypted_text = \"\"\n",
    "    for char in encrypted_text:\n",
    "        found = False\n",
    "        for _ in range(cipher_deque.size()):\n",
    "            if char == cipher_deque.items[-1]:\n",
    "                cipher_deque.addFront(cipher_deque.removeRear())\n",
    "                cipher_deque.addFront(cipher_deque.removeRear())\n",
    "                decrypted_text += cipher_deque.items[-1]\n",
    "                found = True\n",
    "                break\n",
    "            cipher_deque.addRear(cipher_deque.removeFront())\n",
    "        if not found:\n",
    "            decrypted_text += char\n",
    "    with open(output_filename, 'w') as f:\n",
    "        f.write(decrypted_text)\n",
    "    return decrypted_text\n",
    "\n",
    "cipher = \"ABCDEFGHIJKLMNOPQRSTUVWXYZabcdefghijklmnopqrstuvwxyz0123456789\"\n",
    "cipher_deque = Deque()\n",
    "for ch in cipher:\n",
    "    cipher_deque.addRear(ch)\n",
    "print(decrypt_message(\"lab2_files/2/input_file\", \"lab2_files/2/output_file\", cipher_deque))\n",
    "    \n",
    "    "
   ]
  },
  {
   "cell_type": "markdown",
   "id": "c0894f47",
   "metadata": {
    "id": "c0894f47"
   },
   "source": [
    "### Задание №3\n",
    "Даны три стержня и n дисков различного размера. Диски можно надевать на стержни, образуя из них башни. Перенести n дисков со стержня А на стержень С, сохранив их первоначальный порядок. При переносе дисков необходимо соблюдать следующие правила:\n",
    "- на каждом шаге со стержня на стержень переносить только один диск;\n",
    "- диск нельзя помещать на диск меньшего размера;\n",
    "- для промежуточного хранения можно использовать стержень В.\n",
    "Реализовать алгоритм, используя три стека вместо стержней А, В, С. Информация о дисках хранится в исходном файле."
   ]
  },
  {
   "cell_type": "code",
   "execution_count": 5,
   "id": "9e91a9d4",
   "metadata": {
    "id": "9e91a9d4"
   },
   "outputs": [
    {
     "name": "stdout",
     "output_type": "stream",
     "text": [
      "1\n",
      "2\n",
      "3\n",
      "4\n",
      "5\n"
     ]
    }
   ],
   "source": [
    "def hanoi(n, source: Stack, target: Stack, auxiliary: Stack):\n",
    "    if n == 1:\n",
    "        disk = source.pop()\n",
    "        target.push(disk)\n",
    "    else:\n",
    "        hanoi(n-1, source, auxiliary, target)\n",
    "        disk = source.pop()\n",
    "        target.push(disk)\n",
    "        hanoi(n-1, auxiliary, target, source)\n",
    "def read_tower_file(input_file):\n",
    "    with open(input_file, 'r') as f:\n",
    "        rings = [line.rstrip('\\n') for line in f]\n",
    "    return rings\n",
    "def solve_hanoi(input_file, output_file):\n",
    "    A = Stack(read_tower_file(input_file))\n",
    "    B = Stack()\n",
    "    C = Stack()\n",
    "    n = len(A.items)\n",
    "    hanoi(n, A, C, B)\n",
    "    with open(output_file, 'w') as f:\n",
    "        for disk in C.items:\n",
    "            f.write(f\"{disk}\\n\")\n",
    "            print(disk)\n",
    "solve_hanoi(\"lab2_files/3/tower_file\", \"lab2_files/3/output_file\")"
   ]
  },
  {
   "cell_type": "markdown",
   "id": "e5b0be17",
   "metadata": {
    "id": "e5b0be17"
   },
   "source": [
    "### Задание №4\n",
    "Дан текстовый файл с программой на алгоритмическом языке. За один просмотр файла проверить баланс круглых скобок в тексте, используя стек."
   ]
  },
  {
   "cell_type": "code",
   "execution_count": 6,
   "id": "5b1df60a",
   "metadata": {
    "id": "5b1df60a"
   },
   "outputs": [
    {
     "name": "stdout",
     "output_type": "stream",
     "text": [
      "True\n"
     ]
    }
   ],
   "source": [
    "def check_balance_bracket(input_file, output_file):\n",
    "    stack = Stack()\n",
    "    with open(input_file, 'r', encoding='utf-8') as file:\n",
    "        for line in file:\n",
    "            for char in line:\n",
    "                if char == '(':\n",
    "                    stack.push(char)\n",
    "                elif char == ')':\n",
    "                    if stack.is_empty():\n",
    "                        return False\n",
    "                    stack.pop()\n",
    "    with open(output_file, 'w') as f:\n",
    "        f.write(f\"{stack.is_empty()}\")\n",
    "    return stack.is_empty()\n",
    "print(check_balance_bracket(\"lab2_files/4/input_file\", \"lab2_files/4/output_file\"))"
   ]
  },
  {
   "cell_type": "markdown",
   "id": "c44cdd6b",
   "metadata": {
    "id": "c44cdd6b"
   },
   "source": [
    "### Задание №5\n",
    "Дан текстовый файл с программой на алгоритмическом языке. За один просмотр файла проверить баланс квадратных скобок в тексте, используя дек."
   ]
  },
  {
   "cell_type": "code",
   "execution_count": 7,
   "id": "36b8f400",
   "metadata": {
    "id": "36b8f400"
   },
   "outputs": [
    {
     "name": "stdout",
     "output_type": "stream",
     "text": [
      "True\n"
     ]
    }
   ],
   "source": [
    "def check_balance_square_bracket(input_file, output_file):\n",
    "    deque = Deque()\n",
    "    with open(input_file, 'r', encoding='utf-8') as file:\n",
    "        for line in file:\n",
    "            for char in line:\n",
    "                if char == '[':\n",
    "                    deque.addFront(char)\n",
    "                elif char == ']':\n",
    "                    if deque.isEmpty():\n",
    "                        return False\n",
    "                    deque.removeFront()\n",
    "    with open(output_file, 'w') as f:\n",
    "        f.write(f\"{deque.isEmpty()}\")\n",
    "    return deque.isEmpty()\n",
    "print(check_balance_square_bracket(\"lab2_files/5/input_file\", \"lab2_files/5/output_file\"))"
   ]
  },
  {
   "cell_type": "markdown",
   "id": "59d13dc7",
   "metadata": {
    "id": "59d13dc7"
   },
   "source": [
    "### Задание №6\n",
    "Дан файл из символов. Используя стек, за один просмотр файла напечатать сначала все цифры, затем все буквы, и, наконец, все остальные символы, сохраняя исходный порядок в каждой группе символов."
   ]
  },
  {
   "cell_type": "code",
   "execution_count": 8,
   "id": "297e36c2",
   "metadata": {
    "id": "297e36c2"
   },
   "outputs": [
    {
     "name": "stdout",
     "output_type": "stream",
     "text": [
      "['1', '2', '3', '4', '5', '6', '7', '8', '9', '0'] \n",
      " ['m', 'n', 'b', 'v', 'c', 'x', 'z', 'a', 's', 'd', 'f', 'g', 'h', 'j', 'k', 'l', 'p', 'o', 'i', 'u', 'y', 't', 'r', 'e', 'w', 'q'] \n",
      " ['/', '.', ',', ';', \"'\", ']', '[', ']']\n"
     ]
    }
   ],
   "source": [
    "def process_file(input_file, output_file):\n",
    "    digits_stack = Stack()\n",
    "    letters_stack = Stack()\n",
    "    others_stack = Stack()\n",
    "    with open(input_file, 'r', encoding='utf-8') as f:\n",
    "        for char in f.read():\n",
    "            if char.isdigit():\n",
    "                digits_stack.push(char)\n",
    "            elif char.isalpha():\n",
    "                letters_stack.push(char)\n",
    "            else:\n",
    "                others_stack.push(char)\n",
    "    \n",
    "    with open(output_file, 'w') as f:\n",
    "        f.write(f\"{digits_stack.items}\\n\")\n",
    "        f.write(f\"{letters_stack.items}\\n\")\n",
    "        f.write(f\"{others_stack.items}\")\n",
    "        print(digits_stack.items, \"\\n\", letters_stack.items, \"\\n\", others_stack.items)\n",
    "process_file(\"lab2_files/6/input_file\", \"lab2_files/6/output_file\")"
   ]
  },
  {
   "cell_type": "markdown",
   "id": "973f68bd",
   "metadata": {
    "id": "973f68bd"
   },
   "source": [
    "### Задание №7\n",
    "Дан файл из целых чисел. Используя дек, за один просмотр файла напечатать сначала все отрицательные числа, затем все положительные числа, сохраняя исходный порядок в каждой группе."
   ]
  },
  {
   "cell_type": "code",
   "execution_count": 9,
   "id": "c56fad66",
   "metadata": {
    "id": "c56fad66"
   },
   "outputs": [
    {
     "name": "stdout",
     "output_type": "stream",
     "text": [
      "-4\n",
      "-6\n",
      "-9\n",
      "4\n",
      "6\n",
      "2\n",
      "6\n",
      "6\n",
      "1\n"
     ]
    }
   ],
   "source": [
    "def process_file_integers(input_file, output_file):\n",
    "    ints_deque = Deque()\n",
    "    with open(input_file, 'r') as f:\n",
    "        for line in f:\n",
    "            num = int(line.strip())\n",
    "            if num < 0:\n",
    "                ints_deque.addFront(num)\n",
    "            else:\n",
    "                ints_deque.addRear(num)\n",
    "        while not ints_deque.isEmpty() and (ints_deque.items[-1]>0):\n",
    "            ints_deque.addFront(ints_deque.removeRear())\n",
    "    with open(output_file, 'w') as f:\n",
    "        while not (ints_deque.isEmpty()) and (ints_deque.items[-1]<0):\n",
    "            num = ints_deque.removeRear()\n",
    "            f.write(f\"{num}\")\n",
    "            print(f\"{num}\")\n",
    "            \n",
    "        while not (ints_deque.isEmpty()):\n",
    "            num = ints_deque.removeFront()\n",
    "            f.write(f\"{num}\")\n",
    "            print(f\"{num}\")\n",
    "process_file_integers(\"lab2_files/7/input_file\", \"lab2_files/7/output_file\")"
   ]
  },
  {
   "cell_type": "markdown",
   "id": "b9228191",
   "metadata": {
    "id": "b9228191"
   },
   "source": [
    "### Задание №8\n",
    "Дан текстовый файл. Используя стек, сформировать новый текстовый файл, содержащий строки исходного файла, записанные в обратном порядке: первая строка становится последней, вторая – предпоследней и т.д."
   ]
  },
  {
   "cell_type": "code",
   "execution_count": 10,
   "id": "981fbdfe",
   "metadata": {
    "id": "981fbdfe"
   },
   "outputs": [
    {
     "name": "stdout",
     "output_type": "stream",
     "text": [
      "j\n",
      "i\n",
      "h\n",
      "g\n",
      "f\n",
      "e\n",
      "d\n",
      "c\n",
      "b\n",
      "a\n"
     ]
    }
   ],
   "source": [
    "def reverse_lines(input_file, output_file):\n",
    "    stack = Stack()\n",
    "    with open(input_file, 'r') as f:\n",
    "        for line in f:\n",
    "            stack.push(line.strip())\n",
    "    with open(output_file, 'w') as f:\n",
    "        for _ in range(len(stack.items)):\n",
    "            temp = stack.pop()\n",
    "            f.write(f\"{temp}\")\n",
    "            print(temp)\n",
    "reverse_lines(\"lab2_files/8/input_file\", \"lab2_files/8/output_file\")"
   ]
  },
  {
   "cell_type": "markdown",
   "id": "rental-jerusalem",
   "metadata": {
    "id": "rental-jerusalem"
   },
   "source": [
    "### Вывод\n"
   ]
  },
  {
   "cell_type": "markdown",
   "id": "0c2b8899",
   "metadata": {
    "id": "0c2b8899"
   },
   "source": [
    "В ходе лабораторной работы были применены стек и дек для решения различных алгоритмических задач."
   ]
  },
  {
   "cell_type": "code",
   "execution_count": null,
   "id": "45a42d48-1644-4384-9f0b-652c28e23bcb",
   "metadata": {},
   "outputs": [],
   "source": []
  }
 ],
 "metadata": {
  "colab": {
   "provenance": [
    {
     "file_id": "1SJnopeql2j1MhzcaJ8o68KaPzPnynIeK",
     "timestamp": 1676536264821
    }
   ]
  },
  "kernelspec": {
   "display_name": "Python 3 (ipykernel)",
   "language": "python",
   "name": "python3"
  },
  "language_info": {
   "codemirror_mode": {
    "name": "ipython",
    "version": 3
   },
   "file_extension": ".py",
   "mimetype": "text/x-python",
   "name": "python",
   "nbconvert_exporter": "python",
   "pygments_lexer": "ipython3",
   "version": "3.13.2"
  }
 },
 "nbformat": 4,
 "nbformat_minor": 5
}
