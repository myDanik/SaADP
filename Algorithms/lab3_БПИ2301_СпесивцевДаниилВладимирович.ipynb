{
 "cells": [
  {
   "cell_type": "markdown",
   "metadata": {},
   "source": [
    "# Лабораторная работа 3.\n",
    "## Методы поиска\n"
   ]
  },
  {
   "cell_type": "markdown",
   "metadata": {},
   "source": [
    "Реализовать методы поиска в соответствии с заданием. <br/>Организовать генерацию начального набора случайных данных. <br/>Для всех вариантов добавить реализацию добавления, поиска и удаления элементов. <br/>Оценить время работы каждого алгоритма поиска и сравнить его со временем работы стандартной функции поиска, используемой в выбранном языке программирования."
   ]
  },
  {
   "cell_type": "code",
   "execution_count": 14,
   "metadata": {},
   "outputs": [],
   "source": [
    "import random, time\n",
    "\n",
    "def generateList(length: int = 1000):\n",
    "    return [random.randint(-1000, 1000) for _ in range(length)]\n"
   ]
  },
  {
   "cell_type": "code",
   "execution_count": 10,
   "metadata": {},
   "outputs": [],
   "source": [
    "def standard_search(arr, val): \n",
    "    return arr.find(val)\n",
    "\n",
    "def standard_remove(arr, val):\n",
    "    arr.pop(arr.index(val))\n",
    "\n",
    "def standard_insert(arr, val):\n",
    "    arr.append(val)"
   ]
  },
  {
   "cell_type": "markdown",
   "metadata": {},
   "source": [
    "## Задание 1"
   ]
  },
  {
   "cell_type": "markdown",
   "metadata": {},
   "source": [
    "- **Бинарный поиск**\n"
   ]
  },
  {
   "cell_type": "code",
   "execution_count": 11,
   "metadata": {},
   "outputs": [
    {
     "name": "stdout",
     "output_type": "stream",
     "text": [
      "624\n",
      "0.00022292137145996094\n",
      "success: True\n"
     ]
    }
   ],
   "source": [
    "def binary_search(arr, item):\n",
    "    low = 0\n",
    "    high = len(arr) - 1\n",
    "    while low <= high:\n",
    "        mid = (low + high) // 2\n",
    "        if arr[mid] == item:\n",
    "            return mid           \n",
    "        elif arr[mid] > item:\n",
    "            high = mid -1\n",
    "        else:\n",
    "            low = mid + 1\n",
    "    return None\n",
    "\n",
    "arr = generateList()\n",
    "item = arr[1]\n",
    "arr.sort()\n",
    "start_time = time.time()\n",
    "bin_search_result = binary_search(arr, item)\n",
    "print(bin_search_result)\n",
    "print(time.time()-start_time)\n",
    "print(f\"success: {arr[bin_search_result]==item}\")"
   ]
  },
  {
   "cell_type": "markdown",
   "metadata": {},
   "source": [
    "- **Бинарное дерево**"
   ]
  },
  {
   "cell_type": "code",
   "execution_count": 42,
   "metadata": {},
   "outputs": [
    {
     "name": "stdout",
     "output_type": "stream",
     "text": [
      "453\n",
      "9.322166442871094e-05\n",
      "Success: True\n"
     ]
    }
   ],
   "source": [
    "class Node:\n",
    "    def __init__(self, key):\n",
    "        self.left = None\n",
    "        self.right = None\n",
    "        self.value = key\n",
    "        \n",
    "class BinarySearchTree:\n",
    "    def __init__(self):\n",
    "        self.root = None\n",
    "        \n",
    "    def insert (self, key):\n",
    "        self.root = self._insert(self.root, key)\n",
    "        \n",
    "    def _insert(self, root, key):\n",
    "        if root is None:\n",
    "            return Node(key)\n",
    "        if root.value == key:\n",
    "                return root\n",
    "        if root.value< key:\n",
    "                root.right = self._insert(root.right, key)\n",
    "        else:\n",
    "                root.left = self._insert(root.left, key)\n",
    "        return root\n",
    "\n",
    "    def search(self, key):\n",
    "        return self._search(self.root, key)\n",
    "    \n",
    "    def _search(self, root, key):\n",
    "        if root is None or root.value == key:\n",
    "            return root\n",
    "        if root.value < key:\n",
    "            return self._search(root.right, key)\n",
    "        else:\n",
    "            return self._search(root.left, key)\n",
    "\n",
    "    def delete(self, key):\n",
    "        self._delete(self.root, key)\n",
    "    \n",
    "    def _delete(self, root, key):\n",
    "        if root is None:\n",
    "            return root\n",
    "        elif key < root.value:\n",
    "            root.left = self._delete(root.left, key)\n",
    "        elif key > root.value:\n",
    "            root.right = self._delete(root.right, key)\n",
    "        else:\n",
    "            if root.left is None and root.right is None:\n",
    "                return None\n",
    "            elif root.left is None:\n",
    "                return root.right\n",
    "            elif root.right is None:\n",
    "                return root.left  \n",
    "            else:\n",
    "                successor = self._find_min(root.right)\n",
    "                root.value = successor.value\n",
    "                root.right = self._delete(root.right, successor.value)\n",
    "        return root\n",
    "        \n",
    "    def _find_min(self, root):\n",
    "        current = root\n",
    "        while current.left is not None:\n",
    "            current = current.left\n",
    "        return current\n",
    "\n",
    "arr = generateList()\n",
    "item = arr[1]\n",
    "bst = BinarySearchTree()\n",
    "for num in arr:\n",
    "    bst.insert(num)\n",
    "# print(bst.delete(item))\n",
    "start_time = time.time()\n",
    "tree_search_result = bst.search(item)\n",
    "print(tree_search_result.value)\n",
    "print(time.time()-start_time)\n",
    "print(f\"Success: {tree_search_result.value == item}\")"
   ]
  },
  {
   "cell_type": "markdown",
   "metadata": {},
   "source": [
    "- **Фибоначчиев**"
   ]
  },
  {
   "cell_type": "code",
   "execution_count": 39,
   "metadata": {},
   "outputs": [
    {
     "name": "stdout",
     "output_type": "stream",
     "text": [
      "853\n",
      "8.20159912109375e-05\n",
      "success: True\n"
     ]
    }
   ],
   "source": [
    "def fib_search(arr, item):\n",
    "    num1, num2 = 0, 1\n",
    "    num_sum = num1 + num2\n",
    "    while num_sum<len(arr):\n",
    "        num1 = num2\n",
    "        num2 = num_sum\n",
    "        num_sum = num1+num2\n",
    "    offset = -1\n",
    "    while num_sum > 1:\n",
    "        idx = offset + num1\n",
    "        if arr[idx] < item:\n",
    "            num_sum = num2\n",
    "            num2 = num1\n",
    "            num1 = num_sum - num2\n",
    "            offset = idx\n",
    "        elif arr[idx] > item:\n",
    "            num_sum = num1\n",
    "            num2 = num2 - num1\n",
    "            num1 = num_sum - num2\n",
    "        else:\n",
    "            return idx\n",
    "    if num2 == 1 and arr[offset+1] == item:\n",
    "        return offset + 1\n",
    "    return None\n",
    "\n",
    "arr = generateList()\n",
    "item = arr[1]\n",
    "arr.sort()\n",
    "start_time = time.time()\n",
    "fib_search_result = fib_search(arr, item)\n",
    "print(fib_search_result)\n",
    "print(time.time()-start_time)\n",
    "print(f\"success: {arr[fib_search_result]==item}\")"
   ]
  },
  {
   "cell_type": "markdown",
   "metadata": {},
   "source": [
    "- **Интерполяционный**"
   ]
  },
  {
   "cell_type": "code",
   "execution_count": 40,
   "metadata": {},
   "outputs": [
    {
     "name": "stdout",
     "output_type": "stream",
     "text": [
      "761\n",
      "0.0001518726348876953\n",
      "success: True\n"
     ]
    }
   ],
   "source": [
    "def interpolation_search(arr, item):\n",
    "    low = 0\n",
    "    high = len(arr) - 1\n",
    "    while low <= high:\n",
    "        mid = ((item - arr[low]) * (low-high))//(arr[low]-arr[high])+low\n",
    "        if arr[mid] == item:\n",
    "            return mid\n",
    "        elif arr[mid] < item:\n",
    "            low = mid + 1\n",
    "        else:\n",
    "            high = mid - 1\n",
    "    return None\n",
    "arr = generateList()\n",
    "item = arr[1]\n",
    "arr.sort()\n",
    "start_time = time.time()\n",
    "interpolation_search_result = interpolation_search(arr, item)\n",
    "print(interpolation_search_result)\n",
    "print(time.time()-start_time)\n",
    "print(f\"success: {arr[interpolation_search_result]==item}\")"
   ]
  },
  {
   "cell_type": "markdown",
   "metadata": {},
   "source": [
    "## Задание 2"
   ]
  },
  {
   "cell_type": "markdown",
   "metadata": {},
   "source": [
    "- **Простое рехэширование**"
   ]
  },
  {
   "cell_type": "code",
   "execution_count": 81,
   "metadata": {},
   "outputs": [
    {
     "name": "stdout",
     "output_type": "stream",
     "text": [
      "271\n",
      "0.00010466575622558594\n"
     ]
    }
   ],
   "source": [
    "class SimpleHashTable:\n",
    "    def __init__(self, size):\n",
    "        self.size = size\n",
    "        self.keys = [None] * self.size\n",
    "        self.values = [None] * self.size\n",
    "        self.deleted = [False] * self.size\n",
    "    def hash_function(self, key):\n",
    "        return key % self.size\n",
    "\n",
    "    def put(self, key, data):\n",
    "        index = self.hash_function(key)\n",
    "        if self.keys[index] is None or self.deleted[index] == True:\n",
    "            self.keys[index] = key\n",
    "            self.values[index] = data\n",
    "            self.deleted\n",
    "        else:\n",
    "            while self.keys[index] is not None or self.deleted[index] == False:\n",
    "                if self.keys[index] == key:\n",
    "                    self.values[index] = data\n",
    "                    return\n",
    "                index = (index + 1) % self.size\n",
    "                \n",
    "            self.keys[index] = key\n",
    "            self.values[index] = data\n",
    "\n",
    "    def get(self, key):\n",
    "        index = self.hash_function(key)\n",
    "        if self.keys[index] is None or self.deleted[index] == True:\n",
    "            return None\n",
    "        while self.keys[index] is not None or self.deleted[index] == False:\n",
    "            if self.keys[index] == key:\n",
    "                return self.values[index]\n",
    "            index = (index + 1) % self.size\n",
    "        return None\n",
    "        \n",
    "    def delete(self, key):\n",
    "        index = self.hash_function(key)\n",
    "        if self.keys[index] is None or self.deleted[index] == True:\n",
    "            return None\n",
    "        while self.keys[index] is not None or self.deleted[index] == False:\n",
    "            if self.keys[index] == key:\n",
    "                self.deleted[index] = True\n",
    "            index = (index + 1) % self.size\n",
    "        return None\n",
    "arr = generateList()\n",
    "hash_table = SimpleHashTable(1000)\n",
    "key = arr[500]%1000\n",
    "for i in arr:\n",
    "    hash_table.put(hash_table.hash_function(i), i)\n",
    "start_time = time.time()\n",
    "simple_rehash_result = hash_table.get(key)\n",
    "print(simple_rehash_result)\n",
    "print(time.time()-start_time)"
   ]
  },
  {
   "cell_type": "markdown",
   "metadata": {},
   "source": [
    "- **Рехэширование с помощью псевдослучайных чисел**"
   ]
  },
  {
   "cell_type": "code",
   "execution_count": 82,
   "metadata": {},
   "outputs": [
    {
     "name": "stdout",
     "output_type": "stream",
     "text": [
      "271\n",
      "0.0002770423889160156\n"
     ]
    }
   ],
   "source": [
    "class RandomHashTable:\n",
    "    def __init__(self, size):\n",
    "        self.size = size\n",
    "        self.keys = [None] * self.size\n",
    "        self.values = [None] * self.size\n",
    "        self.deleted = [False] * self.size\n",
    "        self.random_num = random.randint(1, self.size - 1)\n",
    " \n",
    "    def hash_function(self, key):\n",
    "        return key % self.size\n",
    "\n",
    "    def put(self, key, data):\n",
    "        index = self.hash_function(key)\n",
    "        if self.keys[index] is None or self.deleted[index] == True:\n",
    "            self.keys[index] = key\n",
    "            self.values[index] = data\n",
    "        else:\n",
    "            while self.keys[index] is not None or self.deleted[index] == False:\n",
    "                if self.keys[index] == key:\n",
    "                    self.values[index] = data\n",
    "                    return\n",
    "                index = (index + self.random_num) % self.size\n",
    "                \n",
    "            self.keys[index] = key\n",
    "            self.values[index] = data\n",
    "\n",
    "    def get(self, key):\n",
    "        index = self.hash_function(key)\n",
    "        if self.keys[index] is None or self.deleted[index] == True:\n",
    "            return None\n",
    "        while self.keys[index] is not None or self.deleted[index] == False:\n",
    "            if self.keys[index] == key:\n",
    "                return self.values[index]\n",
    "            index = (index + self.random_num) % self.size\n",
    "        return None\n",
    "\n",
    "    def delete(self, key):\n",
    "        index = self.hash_function(key)\n",
    "        if self.keys[index] is None or self.deleted[index] == True:\n",
    "            return None\n",
    "        while self.keys[index] is not None or self.deleted[index] == False:\n",
    "            if self.keys[index] == key:\n",
    "                self.deleted[index] = True\n",
    "            index = (index + self.random_num) % self.size\n",
    "        return None\n",
    "        \n",
    "arr = generateList()\n",
    "hash_table = RandomHashTable(1000)\n",
    "key = arr[500]%1000\n",
    "for i in arr:\n",
    "    hash_table.put(hash_table.hash_function(i), i)\n",
    "start_time = time.time()\n",
    "random_rehash_result = hash_table.get(key)\n",
    "print(random_rehash_result)\n",
    "print(time.time()-start_time)"
   ]
  },
  {
   "cell_type": "markdown",
   "metadata": {},
   "source": [
    "- **Метод цепочек**"
   ]
  },
  {
   "cell_type": "code",
   "execution_count": 77,
   "metadata": {},
   "outputs": [],
   "source": [
    "class Node:\n",
    "    def __init__(self, key, value):\n",
    "        self.key = key\n",
    "        self.value = value\n",
    "        self.next = None\n",
    "class ChainsHashTable:\n",
    "    def __init__(self, size):\n",
    "        self.size = size\n",
    "        self.cell = [None] * self.size\n",
    "\n",
    "    def hash_function(self, key):\n",
    "        return key % self.size\n",
    "\n",
    "    def put(self, key, value):\n",
    "        index = self.hash_function(key)\n",
    "        if self.cell[index] is none:\n",
    "            self.cell[index] = Node(key, value)\n",
    "        else:\n",
    "            prev = None\n",
    "            current = self.cell[index]\n",
    "            while current:\n",
    "                if current.key == key:\n",
    "                    current.value = value\n",
    "                    return\n",
    "                prev = current\n",
    "                current = current.next\n",
    "            prev.next = Node(key, value)\n",
    "\n",
    "    def get(self, key, value):\n",
    "        index = self.hash_function(key)\n",
    "        if self.cell[index] is None:\n",
    "            return None\n",
    "        current = self.cell[index]\n",
    "        while current:\n",
    "            if current.key == key:\n",
    "                return current.value\n",
    "            current = current.next\n",
    "        return None\n",
    "\n",
    "    def delete(self, key, value):\n",
    "        if self.cell[index] is None:\n",
    "            return None\n",
    "        index = self.hash_function(key)\n",
    "        current = self.cell[index]\n",
    "        prev = None\n",
    "        while current:\n",
    "            if current.key == key:\n",
    "                if prev:\n",
    "                    prev.next = current.next\n",
    "                else:\n",
    "                    self.buckets[index] = current.next\n",
    "            prev = current\n",
    "            current = current.next\n"
   ]
  },
  {
   "cell_type": "markdown",
   "metadata": {},
   "source": [
    "## Задание 3"
   ]
  },
  {
   "cell_type": "markdown",
   "metadata": {},
   "source": [
    "Расставить на стандартной 64-клеточной шахматной доске 8 ферзей так, чтобы ни один из них не находился под боем другого. Подразумевается, что ферзь бьёт все клетки, расположенные по вертикалям, горизонталям и обеим диагоналям. <br/>Написать программу, которая находит хотя бы один способ решения задач."
   ]
  },
  {
   "cell_type": "code",
   "execution_count": 18,
   "metadata": {},
   "outputs": [
    {
     "name": "stdout",
     "output_type": "stream",
     "text": [
      "[0, 4, 7, 5, 2, 6, 1, 3]\n"
     ]
    }
   ],
   "source": [
    "def is_safe_position(board, row, column):\n",
    "    for i in range(row):\n",
    "            if board[i] == column or \\\n",
    "               abs(board[i] - column) == row - i:\n",
    "                return False\n",
    "    return True\n",
    "    \n",
    "def put_queen(board, row):\n",
    "    if row == 8:\n",
    "        return board.copy()\n",
    "    for col in range(8):\n",
    "        if is_safe_position(board, row, col):\n",
    "            board[row] = col\n",
    "            result = put_queen(board, row + 1)\n",
    "            if result is not None:\n",
    "                return result\n",
    "    return None\n",
    "    \n",
    "board = [-1] * 8\n",
    "print(put_queen(board, 0))"
   ]
  },
  {
   "cell_type": "code",
   "execution_count": null,
   "metadata": {},
   "outputs": [],
   "source": []
  }
 ],
 "metadata": {
  "kernelspec": {
   "display_name": "Python 3 (ipykernel)",
   "language": "python",
   "name": "python3"
  },
  "language_info": {
   "codemirror_mode": {
    "name": "ipython",
    "version": 3
   },
   "file_extension": ".py",
   "mimetype": "text/x-python",
   "name": "python",
   "nbconvert_exporter": "python",
   "pygments_lexer": "ipython3",
   "version": "3.13.2"
  }
 },
 "nbformat": 4,
 "nbformat_minor": 4
}
