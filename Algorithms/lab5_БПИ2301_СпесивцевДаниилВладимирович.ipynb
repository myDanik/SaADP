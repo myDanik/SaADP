{
 "cells": [
  {
   "cell_type": "markdown",
   "id": "db4b50f0",
   "metadata": {
    "id": "db4b50f0"
   },
   "source": [
    "# Лабораторная работа №5\n",
    "## Выполнил студент группы БПИ2301 Спесивцев Даниил Владимирович"
   ]
  },
  {
   "cell_type": "markdown",
   "id": "annual-symbol",
   "metadata": {
    "id": "annual-symbol"
   },
   "source": [
    "### Оглавление\n",
    "1. [Задание 1](#Задание-№1)\n",
    "2. [Задание 2](#Задание-№2)\n",
    "4. [Вывод](#Вывод)"
   ]
  },
  {
   "cell_type": "markdown",
   "id": "independent-spirit",
   "metadata": {
    "id": "independent-spirit"
   },
   "source": [
    "> Дополнительные модули, использованные при выполнение лабораторной"
   ]
  },
  {
   "cell_type": "code",
   "execution_count": 2,
   "id": "4839be2b",
   "metadata": {
    "id": "4839be2b"
   },
   "outputs": [],
   "source": [
    "# Необходим при замере скорости выполнения кода\n",
    "from datetime import datetime as t\n",
    "# Нужен для создания словаря в алг. Бойера-Мура\n",
    "from collections import defaultdict"
   ]
  },
  {
   "cell_type": "markdown",
   "id": "inclusive-motorcycle",
   "metadata": {
    "id": "inclusive-motorcycle"
   },
   "source": [
    "### Задание №1\n",
    "Реализовать методы поиска подстроки в строке. Добавить возможность ввода строки и подстроки с клавиатуры. Предусмотреть возможность существования пробела. Реализовать возможность выбора опции чувствительности или нечувствительности к регистру. Оценить время работы каждого алгоритма поиска и сравнить его со временем работы стандартной функции поиска, используемой в выбранном языке программирования."
   ]
  },
  {
   "cell_type": "markdown",
   "id": "interracial-communication",
   "metadata": {
    "id": "interracial-communication"
   },
   "source": [
    "#### Алгоритм Кнута-Морриса-Пратта"
   ]
  },
  {
   "cell_type": "code",
   "execution_count": 8,
   "id": "presidential-level",
   "metadata": {
    "id": "presidential-level"
   },
   "outputs": [],
   "source": [
    "def prefix_function(pattern: str):\n",
    "    p = [0] * len(pattern)\n",
    "    j = 0\n",
    "    i = 1\n",
    "\n",
    "    while i < len(pattern):\n",
    "        if pattern[i] == pattern[j]:\n",
    "            j += 1\n",
    "            p[i] = j\n",
    "            i += 1\n",
    "        else:\n",
    "            if j != 0:\n",
    "                j = p[j-1]\n",
    "            else:\n",
    "                p[i] = 0\n",
    "                i += 1\n",
    "    return p\n",
    "\n",
    "def kmp_find(text, pattern) -> int:    \n",
    "    if not pattern or not text:\n",
    "        return -1\n",
    "    \n",
    "    prefix_arr = prefix_function(pattern)\n",
    "    i = 0\n",
    "    j = 0\n",
    "    while i < len(text):\n",
    "        if pattern[j] == text[i]:\n",
    "            i+=1\n",
    "            j+=1\n",
    "        if j == len(pattern):\n",
    "            return i - j\n",
    "        elif i < len(text) and pattern[j] != text[i]:\n",
    "            if j != 0:\n",
    "                j = prefix_arr[j-1]\n",
    "            else:\n",
    "                i+=1\n",
    "    return -1\n"
   ]
  },
  {
   "cell_type": "markdown",
   "id": "downtown-option",
   "metadata": {
    "id": "downtown-option"
   },
   "source": [
    "#### Упрощенный алгоритм Бойера-Мура"
   ]
  },
  {
   "cell_type": "code",
   "execution_count": 7,
   "id": "respective-reggae",
   "metadata": {
    "id": "respective-reggae"
   },
   "outputs": [],
   "source": [
    "def offset(pattern: str) -> defaultdict:\n",
    "    unique = set()\n",
    "    length = len(pattern)\n",
    "    off_dict = defaultdict()\n",
    "\n",
    "    for i in range(length-2, -1, -1):\n",
    "        if pattern[i] not in unique:\n",
    "            off_dict[pattern[i]] = length-1-i\n",
    "            unique.add(pattern[i])\n",
    "\n",
    "    if pattern[-1] not in unique:\n",
    "        off_dict[pattern[-1]] = length\n",
    "\n",
    "    off_dict[\"*\"] = length\n",
    "\n",
    "    return off_dict\n",
    "\n",
    "def bm_find(text, pattern) -> int:\n",
    "    if not pattern or not text:\n",
    "        return -1\n",
    "    \n",
    "    offset_dict = offset(pattern)\n",
    "    text_length= len(text)\n",
    "    pattern_length = len(pattern)\n",
    "    if text_length <= pattern_length:\n",
    "        return -1\n",
    "    \n",
    "    i = pattern_length - 1\n",
    "    while i < text_length:\n",
    "        k = 0\n",
    "        flag = False\n",
    "        for j in range(pattern_length-1, -1, -1):\n",
    "            if pattern[j] != text[i-k]:\n",
    "                if j == pattern_length-1:\n",
    "                    off = offset_dict[text[i]] if offset_dict.get(text[i]) != None else offset_dict[\"*\"]\n",
    "                else:\n",
    "                    off = offset_dict[pattern[j]]\n",
    "            \n",
    "                i += off\n",
    "                flag = True\n",
    "                break\n",
    "            k += 1\n",
    "        if not flag:\n",
    "            return i - k + 1\n",
    "                \n",
    "\n",
    " \n"
   ]
  },
  {
   "cell_type": "code",
   "execution_count": 9,
   "id": "f9486280",
   "metadata": {},
   "outputs": [
    {
     "data": {
      "application/vnd.jupyter.widget-view+json": {
       "model_id": "3fadd1f278c54000a15cdabb6836c446",
       "version_major": 2,
       "version_minor": 0
      },
      "text/plain": [
       "interactive(children=(Text(value='', description='Введите строку: '), Text(value='', description='Введите подс…"
      ]
     },
     "metadata": {},
     "output_type": "display_data"
    },
    {
     "data": {
      "text/plain": [
       "<function __main__.show_result(text, pattern, case_sensitive)>"
      ]
     },
     "execution_count": 9,
     "metadata": {},
     "output_type": "execute_result"
    }
   ],
   "source": [
    "from ipywidgets import interact, Text, Checkbox\n",
    "\n",
    "def time(func, text, pattern):\n",
    "    start = t.now()\n",
    "    result = func(text, pattern)\n",
    "    end = t.now()\n",
    "    return result, (end - start).total_seconds()\n",
    "\n",
    "def show_result(text, pattern, case_sensitive):\n",
    "    if case_sensitive == False:\n",
    "        text = text.lower()\n",
    "        pattern = pattern.lower()\n",
    "\n",
    "    standard_result, standard_time = time(lambda t, p: t.find(p), text, pattern)\n",
    "    print(f\"Стандартная функция поиска: индекс {standard_result}, время {standard_time:.6f} сек\")\n",
    "\n",
    "    kmp_result, kmp_time = time(kmp_find, text, pattern)\n",
    "    print(f\"Алгоритм Кнута-Морриса-Пратта: индекс {kmp_result}, время {kmp_time:.6f} сек\")\n",
    "        \n",
    "    bm_result, bm_time = time(bm_find, text, pattern)\n",
    "    print(f\"Упрощенный алгоритм Бойера-Мура: индекс {bm_result}, время {bm_time:.6f} сек\")\n",
    "\n",
    "interact(show_result,\n",
    "    text = Text(description=\"Введите строку: \"),\n",
    "    pattern = Text(description=\"Введите подстроку: \"),\n",
    "    case_sensitive = Checkbox(description=\"Чувствительность к регистру?\")\n",
    ")\n",
    "\n"
   ]
  },
  {
   "cell_type": "markdown",
   "id": "hybrid-memorial",
   "metadata": {
    "id": "hybrid-memorial"
   },
   "source": [
    "### Задание №2\n",
    "Написать программу, определяющую, является ли данное\n",
    "расположение «решаемым», то есть можно ли из него за конечное число\n",
    "шагов перейти к правильному. Если это возможно, то необходимо найти хотя\n",
    "бы одно решение - последовательность движений, после которой числа будут\n",
    "расположены в правильном порядке.\n",
    "#### Входные данные: массив чисел, представляющий собой расстановку в\n",
    "Порядке «слева направо, сверху вниз». Число 0 обозначает пустое поле.\n",
    "Например, массив [1, 2, 3, 4, 5, 6, 7, 8, 9, 10, 11, 12, 13, 14, 15, 0] представляет\n",
    "собой «решенную» позицию элементов.\n",
    "#### Выходные данные: если решения нет, то функция должна вернуть\n",
    "Пустой массив []. Если решение есть, то необходимо представить решение —\n",
    "для каждого шага записывается номер передвигаемого на данном шаге\n",
    "элемента. "
   ]
  },
  {
   "cell_type": "code",
   "execution_count": 6,
   "id": "eleven-generic",
   "metadata": {
    "id": "eleven-generic"
   },
   "outputs": [
    {
     "data": {
      "text/plain": [
       "[14, 10, 11, 15, 10, 14, 12, 11, 15, 10, 14, 15, 11, 12]"
      ]
     },
     "execution_count": 6,
     "metadata": {},
     "output_type": "execute_result"
    }
   ],
   "source": [
    "from collections import deque\n",
    "\n",
    "def get_neighbors(pos):\n",
    "    x, y = pos\n",
    "    moves = [(0,1), (0,-1), (1,0), (-1, 0)]\n",
    "    return [(x + dx, y + dy) for dx, dy in moves if 0 <= x + dx < 4 and 0 <= y + dy < 4]\n",
    "\n",
    "def is_solvable(puzzle):\n",
    "    puzzle = [i for i in puzzle if i!=0]\n",
    "    inversions = 0\n",
    "    for i in range(len(puzzle)):\n",
    "        for j in range(i+1, len(puzzle)):\n",
    "            if puzzle[i]>puzzle[j]:\n",
    "                inversions += 1\n",
    "    return inversions % 2 == 0\n",
    "\n",
    "def solve(puzzle):\n",
    "    if is_solvable(puzzle) == False:\n",
    "        return []\n",
    "    \n",
    "    final_state = [1, 2, 3, 4, 5, 6, 7, 8, 9, 10, 11, 12, 13, 14, 15, 0]\n",
    "\n",
    "    if puzzle == final_state:\n",
    "        return []\n",
    "    \n",
    "    puzzle_copy = puzzle[:]\n",
    "    queue = deque([(puzzle_copy, [])])\n",
    "    visited = set()\n",
    "\n",
    "    while queue:\n",
    "        state, path = queue.popleft()\n",
    "        if state == final_state:\n",
    "            return path\n",
    "\n",
    "        zero_pos = state.index(0)\n",
    "        zero_x, zero_y = zero_pos // 4, zero_pos % 4\n",
    "\n",
    "        for new_x, new_y in get_neighbors((zero_x, zero_y)):\n",
    "            new_zero_pos = new_x * 4 + new_y\n",
    "            new_state = state[:]\n",
    "            new_state[zero_pos], new_state[new_zero_pos] = new_state[new_zero_pos], new_state[zero_pos]\n",
    "\n",
    "            if str(new_state) not in visited:\n",
    "                visited.add(str(new_state))\n",
    "                queue.append((new_state, path + [state[new_zero_pos]]))\n",
    "\n",
    "    return []\n",
    "\n",
    "puzzle = [\n",
    "    1, 2, 3, 4,\n",
    "    5, 6, 7, 8,\n",
    "    9, 11, 10, 12,\n",
    "    13, 15, 14, 0\n",
    "]\n",
    "\n",
    "solve(puzzle)\n"
   ]
  },
  {
   "cell_type": "markdown",
   "id": "71bc58bf",
   "metadata": {
    "id": "71bc58bf"
   },
   "source": []
  }
 ],
 "metadata": {
  "colab": {
   "provenance": []
  },
  "kernelspec": {
   "display_name": "venv",
   "language": "python",
   "name": "python3"
  },
  "language_info": {
   "codemirror_mode": {
    "name": "ipython",
    "version": 3
   },
   "file_extension": ".py",
   "mimetype": "text/x-python",
   "name": "python",
   "nbconvert_exporter": "python",
   "pygments_lexer": "ipython3",
   "version": "3.13.3"
  }
 },
 "nbformat": 4,
 "nbformat_minor": 5
}
